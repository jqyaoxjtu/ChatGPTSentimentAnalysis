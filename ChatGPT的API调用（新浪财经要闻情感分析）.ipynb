{
 "cells": [
  {
   "cell_type": "markdown",
   "id": "178d80a4",
   "metadata": {},
   "source": [
    "# 案例：ChatGPT的API调用"
   ]
  },
  {
   "cell_type": "markdown",
   "id": "2c986ced-1c7d-420d-8dbf-7b60f6fba408",
   "metadata": {},
   "source": [
    "本案例讲解如何结合网络爬虫以及API来实现更为复杂的逻辑。\n",
    "\n",
    "案例参考了Lopez-Lira and Tang(2023)中的思想，即输入特定的prompt，让ChatGPT对输入的新闻标题进行情感分析，将其分为积极、消极和未知。参考Lopez-Lira and Tang(2023)中的prompt\n",
    "\n",
    "本案例中使用的prompt为\n",
    "```\n",
    "忘掉之前所有的指令。假装你是一位金融专家。你是一位有荐股经验的金融专家。如果是好消息，请回答 \"积极\"；如果是坏消息，请回答 \"消极\"；如果是不确定的消息，请回答 \"未知\"。然后在下一行用一个简短的句子详细说明。\n",
    "```\n",
    "\n",
    "本案例中首先使用网络爬虫爬取了新浪财经首页的要闻标题内容，然后调用OpenAI提供的API来对爬取到的要闻标题进行情感分析，最后对调用的结果进行简单的展示。其中网络爬虫部分的代码来自于网络数据采集三部曲。"
   ]
  },
  {
   "cell_type": "markdown",
   "id": "24304827-bb71-4ec1-90c7-572463204ded",
   "metadata": {},
   "source": [
    "## 要闻标题爬取\n",
    "首先导入必要的包"
   ]
  },
  {
   "cell_type": "code",
   "execution_count": 1,
   "id": "35e9753e",
   "metadata": {},
   "outputs": [],
   "source": [
    "import requests # 导入库\n",
    "import parsel\n",
    "from pprint import pprint # 为了更好的打印字典\n",
    "import openai\n",
    "import os\n",
    "from time import sleep"
   ]
  },
  {
   "cell_type": "markdown",
   "id": "aa592643",
   "metadata": {},
   "source": [
    "首先请求新浪财经的首页url，拿到对应的响应数据"
   ]
  },
  {
   "cell_type": "code",
   "execution_count": null,
   "id": "da598a29",
   "metadata": {},
   "outputs": [],
   "source": [
    "url = \"https://finance.sina.com.cn/\" # 请求的目标地址\n",
    "res = requests.get(url) # 使用requests库来发送GET请求，获得响应"
   ]
  },
  {
   "cell_type": "markdown",
   "id": "287a2421",
   "metadata": {},
   "source": [
    "接着修改响应数据的编码，解决中文乱码的问题，然后使用`parsel`库解析响应数据提取要闻相关的数据"
   ]
  },
  {
   "cell_type": "code",
   "execution_count": 3,
   "id": "76aa0cef",
   "metadata": {},
   "outputs": [
    {
     "name": "stdout",
     "output_type": "stream",
     "text": [
      "[{'news_title': '经济日报:以暂停新股发行来救市不可取',\n",
      "  'news_url': 'https://finance.sina.com.cn/jjxw/2023-08-17/doc-imzhmzqi3469850.shtml '},\n",
      " {'news_title': '股市转牛依靠印花税？机构：政策象征意义或大于资金面宽松意义',\n",
      "  'news_url': 'https://finance.sina.com.cn/roll/2023-08-16/doc-imzhmkst2490734.shtml'},\n",
      " {'news_title': '减免证券交易印花税呼声渐高！分析人士称具备调整必要性和空间',\n",
      "  'news_url': 'https://finance.sina.com.cn/stock/marketresearch/2023-08-17/doc-imzhnfwc6582020.shtml '},\n",
      " {'news_title': '美联储会议纪要暗示加息或将继续',\n",
      "  'news_url': 'https://finance.sina.com.cn/stock/usstock/c/2023-08-17/doc-imzhmqyp3709471.shtml'},\n",
      " {'news_title': '通胀风险成联储纪要关键词',\n",
      "  'news_url': 'https://finance.sina.com.cn/stock/usstock/c/2023-08-17/doc-imzhmvhi6819724.shtml'},\n",
      " {'news_title': '桥水看空美股美元',\n",
      "  'news_url': 'https://finance.sina.com.cn/stock/usstock/c/2023-08-16/doc-imzhmksr3797616.shtml'},\n",
      " {'news_title': '美消费者穷途末路',\n",
      "  'news_url': 'https://finance.sina.com.cn/stock/usstock/c/2023-08-17/doc-imzhnfwf3358825.shtml'},\n",
      " {'news_title': '美30年抵押贷款利率创2001年新高',\n",
      "  'news_url': 'https://finance.sina.com.cn/stock/usstock/c/2023-08-16/doc-imzhmksp7024816.shtml'},\n",
      " {'news_title': '美股大跌',\n",
      "  'news_url': 'https://finance.sina.com.cn/wm/2023-08-17/doc-imzhnfwf3369450.shtml'},\n",
      " {'news_title': '特斯拉蒸发1700亿元',\n",
      "  'news_url': 'https://finance.sina.com.cn/stock/usstock/c/2023-08-17/doc-imzhnfwi2029498.shtml'},\n",
      " {'news_title': '三大指数翻红',\n",
      "  'news_url': 'https://finance.sina.com.cn/zt_d/subject-1692231250/'},\n",
      " {'news_title': '三季度股市“钱景”更好',\n",
      "  'news_url': 'https://finance.sina.com.cn/jjxw/2023-08-17/doc-imzhmkst2507004.shtml'},\n",
      " {'news_title': '中金发声！当前市场机会大于风险',\n",
      "  'news_url': 'https://finance.sina.com.cn/stock/marketresearch/2023-08-17/doc-imzhnfwf3395155.shtml'},\n",
      " {'news_title': '暴涨券商股透露出一个共同点',\n",
      "  'news_url': 'https://finance.sina.com.cn/stock/marketresearch/2023-08-17/doc-imzhmzqm2146191.shtml '},\n",
      " {'news_title': '缺乏实质性利好延续弱势格局',\n",
      "  'news_url': 'https://finance.sina.com.cn/jjxw/2023-08-17/doc-imzhmksu3822248.shtml'},\n",
      " {'news_title': '地产板块逆势上涨',\n",
      "  'news_url': 'https://finance.sina.com.cn/china/2023-08-17/doc-imzhmvhq3584830.shtml'},\n",
      " {'news_title': '3新股今日上市',\n",
      "  'news_url': 'https://finance.sina.com.cn/jjxw/2023-08-17/doc-imzhmzqn3471128.shtml'},\n",
      " {'news_title': '李强再部署下步工作 重点看七个着力！业界：积极信号',\n",
      "  'news_url': 'https://finance.sina.com.cn/china/2023-08-17/doc-imzhnfwk3354046.shtml'},\n",
      " {'news_title': '经济学家：经济复苏动能转强 稳增长政策仍有增量空间',\n",
      "  'news_url': 'https://finance.sina.com.cn/jjxw/2023-08-17/doc-imzhmqyr2378595.shtml'},\n",
      " {'news_title': '香港开户存钱又火了 短期利率最高9%！要防哪些风险点',\n",
      "  'news_url': 'https://finance.sina.com.cn/jjxw/2023-08-17/doc-imzhnfwc6580001.shtml'},\n",
      " {'news_title': '市场猜错？锰铁锂缺席宁王4C新品 挑大梁仍是磷酸铁锂',\n",
      "  'news_url': 'https://finance.sina.com.cn/jjxw/2023-08-16/doc-imzhmekr7138967.shtml'},\n",
      " {'news_title': '中证报头版:全面注册制实施半年 A股融资节奏保持平稳',\n",
      "  'news_url': 'https://finance.sina.com.cn/jjxw/2023-08-17/doc-imzhmvhp2267662.shtml'},\n",
      " {'news_title': '361度逾期不发货',\n",
      "  'news_url': 'https://tousu.sina.com.cn/complaint/view/17368139235/'},\n",
      " {'news_title': '大麦海报错误误导消费',\n",
      "  'news_url': 'https://tousu.sina.com.cn/complaint/view/17368141490/'},\n",
      " {'news_title': '做空诺辉健康的报告有失公允 但仍有三大疑点需要关注',\n",
      "  'news_url': 'https://finance.sina.com.cn/stock/focus/2023-08-17/doc-imzhmqys3708589.shtml '},\n",
      " {'news_title': '深圳罗湖一楼盘备案价9万元卖4万元 售楼处：办公属性',\n",
      "  'news_url': 'https://finance.sina.com.cn/jjxw/2023-08-17/doc-imzhmzqn3469989.shtml'},\n",
      " {'news_title': '一人连追四人夺回印鉴 中信信托一贵州项目印鉴遭抢夺',\n",
      "  'news_url': 'https://finance.sina.com.cn/jjxw/2023-08-17/doc-imzhmkst2502410.shtml'},\n",
      " {'news_title': '券商打响ESG抢人大战！月薪中位数3-6万元 更有24薪制',\n",
      "  'news_url': 'https://finance.sina.com.cn/jjxw/2023-08-17/doc-imzhnfwi2031869.shtml'},\n",
      " {'news_title': '中润资源股民索赔二审胜诉 受损股民仍可依法索赔',\n",
      "  'news_url': 'https://finance.sina.com.cn/stock/gmwq/rightscase/2023-08-17/doc-imzhnfwc6608228.shtml'},\n",
      " {'news_title': '二胎贷、连心贷、彩礼贷 银行近年来推出的奇葩贷款',\n",
      "  'news_url': 'https://finance.sina.com.cn/jinrong/yh/2023-08-16/doc-imzhkyav3995231.shtml'},\n",
      " {'news_title': '上半年营收净利再“双降”，30岁浦发银行遇成长烦恼',\n",
      "  'news_url': 'https://finance.sina.com.cn/money/bank/gsdt/2023-08-16/doc-imzhktuv7344802.shtml'},\n",
      " {'news_title': '古越龙山业绩不振大本营发展失速 黄酒赛道痛点何解',\n",
      "  'news_url': ' '\n",
      "              'https://finance.sina.com.cn/chanjing/jync/djbd/2023-08-17/doc-imzhnfwf3378671.shtml '}]\n"
     ]
    }
   ],
   "source": [
    "res.encoding = \"utf-8\" # 将编码设置为utf-8\n",
    "page = parsel.Selector(res.text) # 将响应数据进行解析\n",
    "outer_div = page.xpath(\"//div[@class='fin_tabs0_c0']\") # 找 class值为fin_tabs0_c0的div节点\n",
    "a_under_div = outer_div.xpath(\".//a\") # div下所有的a节点\n",
    "\n",
    "data = list() # 声明一个列表来存储数据\n",
    "for item in a_under_div: # 遍历每一个a节点，取其href和文本值\n",
    "    news_title = item.xpath(\"./text()\").extract_first() # 文本值作为要闻标题\n",
    "    news_url = item.xpath(\"./@href\").extract_first() # href值作为要闻url\n",
    "    this_data = {\n",
    "        \"news_title\" : news_title,\n",
    "        \"news_url\" : news_url, \n",
    "    }\n",
    "    data.append(this_data)\n",
    "pprint(data)"
   ]
  },
  {
   "cell_type": "markdown",
   "id": "3d300870-8333-4c77-851a-8b68a6a76224",
   "metadata": {},
   "source": [
    "## 使用OpenAI的API分析要闻情感"
   ]
  },
  {
   "cell_type": "markdown",
   "id": "c117436d",
   "metadata": {},
   "source": [
    "爬取到要闻的标题后，我们使用OpanAI提供的API来分析要闻标题的情感\n",
    "\n",
    "调用OpenAI的API需要首先获得API_KEY，在登陆了OpenAI的账号后，前往`https://platform.openai.com/account/api-keys`页面即可生成，只需将下面的`your-api-key`部分换成自己的API_KEY即可"
   ]
  },
  {
   "cell_type": "code",
   "execution_count": 5,
   "id": "b303df0a",
   "metadata": {},
   "outputs": [],
   "source": [
    "openai.api_key = \"your-api-key\""
   ]
  },
  {
   "cell_type": "markdown",
   "id": "0d04570d",
   "metadata": {},
   "source": [
    "接着定义了请求OpenAI API的函数，使用`gpt-3.5-turbo`模型\n",
    "\n",
    "在`create`函数中的`messages`参数中，分别两个`prompt`，其中`role`为`system`的`prompt`代表我们对模型的指令，而`role`为`user`的`prompt`代表我们实际的问题；`temperature`的值为0代表期望模型的输出更加集中和确定"
   ]
  },
  {
   "cell_type": "code",
   "execution_count": 6,
   "id": "2aeee927",
   "metadata": {},
   "outputs": [],
   "source": [
    "def judge_sentiment(news_title):\n",
    "    res = openai.ChatCompletion.create(\n",
    "        model=\"gpt-3.5-turbo\",\n",
    "        messages=[\n",
    "            {\"role\": \"system\", \"content\": '忘掉之前所有的指令。假装你是一位金融专家。你是一位有荐股经验的金融专家。如果是好消息，请回答 \"积极\"；如果是坏消息，请回答 \"消极\"；如果是不确定的消息，请回答 \"未知\"。然后用一个简短的句子详细说明。'},\n",
    "            {\"role\": \"user\", \"content\": news_title},\n",
    "        ],\n",
    "        temperature=0,\n",
    "    )\n",
    "    return res[\"choices\"][0]['message']['content']"
   ]
  },
  {
   "cell_type": "markdown",
   "id": "b49261a2",
   "metadata": {},
   "source": [
    "接着我们将上面爬取到的要闻标题传入到`judge_sentiment`函数中，并且将返回的结果打印，另外由于免费的API_KEY在一分钟内只能发起三次调用，超出调用的阈值会直接导致代码异常，因此这里对异常进行处理，在达到阈值后暂停25秒钟，我们将前10个要闻标题进行情感分析"
   ]
  },
  {
   "cell_type": "code",
   "execution_count": 9,
   "id": "7ae8b9a9",
   "metadata": {},
   "outputs": [
    {
     "name": "stdout",
     "output_type": "stream",
     "text": [
      "新闻标题：经济日报:以暂停新股发行来救市不可取\n",
      "情感分析结果：未知。暂停新股发行可能会对市场造成一定的影响，但具体效果还不确定。\n",
      "------------------------------\n",
      "新闻标题：股市转牛依靠印花税？机构：政策象征意义或大于资金面宽松意义\n",
      "情感分析结果：未知。这个消息提到了股市转牛可能依靠印花税，但机构表示政策象征意义可能大于资金面宽松意义，因此无法确定股市的走势。\n",
      "------------------------------\n",
      "新闻标题：减免证券交易印花税呼声渐高！分析人士称具备调整必要性和空间\n",
      "情感分析结果：积极。减免证券交易印花税的呼声越来越高，分析人士认为有必要和空间进行调整。这可能会降低投资者的交易成本，提升市场活跃度。\n",
      "------------------------------\n",
      "新闻标题：美联储会议纪要暗示加息或将继续\n",
      "情感分析结果：消极。美联储会议纪要暗示加息或将继续，这可能会增加借贷成本，对经济和股市产生负面影响。\n",
      "------------------------------\n",
      "新闻标题：通胀风险成联储纪要关键词\n",
      "情感分析结果：未知。联储纪要中提到通胀风险，但具体影响尚不确定。\n",
      "------------------------------\n",
      "新闻标题：桥水看空美股美元\n",
      "情感分析结果：消极。桥水看空美股和美元意味着他们认为美国股市和美元将面临下跌的风险，可能会对投资者造成负面影响。\n",
      "------------------------------\n",
      "新闻标题：美消费者穷途末路\n",
      "情感分析结果：消极。美消费者陷入困境可能导致经济增长放缓，股市下跌。\n",
      "------------------------------\n",
      "新闻标题：美30年抵押贷款利率创2001年新高\n",
      "情感分析结果：消极。美国30年抵押贷款利率创下了自2001年以来的新高，这可能会导致房屋贷款成本上升，对房地产市场和经济产生负面影响。\n",
      "------------------------------\n",
      "新闻标题：美股大跌\n",
      "情感分析结果：消极。美股的大跌可能意味着市场情绪疲软，投资者信心下降，可能会导致股市进一步下跌。\n",
      "------------------------------\n",
      "新闻标题：特斯拉蒸发1700亿元\n",
      "情感分析结果：消极。特斯拉蒸发1700亿元意味着该公司的市值大幅下降，可能是由于投资者对其未来发展的担忧或者市场环境的不利影响。\n",
      "------------------------------\n"
     ]
    }
   ],
   "source": [
    "for item in data[:10]:\n",
    "    news_title = item['news_title']\n",
    "    try:\n",
    "        print(\"新闻标题：%s\" % news_title)\n",
    "        print(\"情感分析结果：%s\" % judge_sentiment(news_title))\n",
    "    except openai.error.RateLimitError:\n",
    "        sleep(25) # 超出阈值睡眠25秒\n",
    "        print(\"情感分析结果：%s\" % judge_sentiment(news_title))\n",
    "    print(\"-\" * 30)"
   ]
  }
 ],
 "metadata": {
  "kernelspec": {
   "display_name": "Python 3 (ipykernel)",
   "language": "python",
   "name": "python3"
  },
  "language_info": {
   "codemirror_mode": {
    "name": "ipython",
    "version": 3
   },
   "file_extension": ".py",
   "mimetype": "text/x-python",
   "name": "python",
   "nbconvert_exporter": "python",
   "pygments_lexer": "ipython3",
   "version": "3.8.10"
  },
  "toc": {
   "base_numbering": 1,
   "nav_menu": {},
   "number_sections": false,
   "sideBar": true,
   "skip_h1_title": false,
   "title_cell": "Table of Contents",
   "title_sidebar": "Contents",
   "toc_cell": false,
   "toc_position": {},
   "toc_section_display": true,
   "toc_window_display": false
  }
 },
 "nbformat": 4,
 "nbformat_minor": 5
}
